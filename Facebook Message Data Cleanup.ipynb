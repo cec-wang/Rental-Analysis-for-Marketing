{
 "cells": [
  {
   "cell_type": "markdown",
   "metadata": {},
   "source": [
    "## Part 1: Data Cleaning"
   ]
  },
  {
   "cell_type": "markdown",
   "metadata": {},
   "source": [
    "I have gotten response from 4 resources: Craigslist, Nextdoor, Facebook, and sublet.com. The communication format for each resource are:\n",
    "* Craigslist: email and text message\n",
    "    * Format: mbox for email, excel for text messages\n",
    "* Nextdoor: Nextdoor inbox\n",
    "    * Format: excel\n",
    "* Facebook: Facebook messages\n",
    "    * Format: JSON file for each conversation\n",
    "* sublet.com: sublet.com inbox\n",
    "    * Format: excel"
   ]
  },
  {
   "cell_type": "markdown",
   "metadata": {},
   "source": [
    "### Section 2: messages from Facebook"
   ]
  },
  {
   "cell_type": "code",
   "execution_count": 138,
   "metadata": {},
   "outputs": [],
   "source": [
    "import pandas as pd\n",
    "import re\n",
    "import json\n",
    "import numpy"
   ]
  },
  {
   "cell_type": "code",
   "execution_count": 139,
   "metadata": {},
   "outputs": [
    {
     "data": {
      "text/plain": [
       "'E:\\\\Data_Science_Coursework\\\\Rental Data Analysis'"
      ]
     },
     "execution_count": 139,
     "metadata": {},
     "output_type": "execute_result"
    }
   ],
   "source": [
    "import os\n",
    "cwd = os.getcwd()\n",
    "cwd"
   ]
  },
  {
   "cell_type": "code",
   "execution_count": 140,
   "metadata": {
    "scrolled": true
   },
   "outputs": [
    {
     "name": "stdout",
     "output_type": "stream",
     "text": [
      "['message_1 (10).json', 'message_1 (11).json', 'message_1 (12).json', 'message_1 (13).json', 'message_1 (14).json', 'message_1 (15).json', 'message_1 (16).json', 'message_1 (17).json', 'message_1 (18).json', 'message_1 (19).json', 'message_1 (2).json', 'message_1 (20).json', 'message_1 (21).json', 'message_1 (22).json', 'message_1 (23).json', 'message_1 (24).json', 'message_1 (25).json', 'message_1 (26).json', 'message_1 (27).json', 'message_1 (28).json', 'message_1 (29).json', 'message_1 (3).json', 'message_1 (30).json', 'message_1 (31).json', 'message_1 (32).json', 'message_1 (33).json', 'message_1 (4).json', 'message_1 (5).json', 'message_1 (6).json', 'message_1 (7).json', 'message_1 (8).json', 'message_1 (9).json', 'message_1.json']\n"
     ]
    }
   ],
   "source": [
    "# Setting up the read JSON files in one folder all together. \n",
    "path_to_json = 'E:\\\\Data_Science_Coursework\\\\Rental Data Analysis\\\\facebook_messages\\\\'\n",
    "json_files = [pos_json for pos_json in os.listdir(path_to_json) if pos_json.endswith('.json')]\n",
    "print(json_files)"
   ]
  },
  {
   "cell_type": "code",
   "execution_count": 141,
   "metadata": {},
   "outputs": [],
   "source": [
    "# Take a look at one of the files: message_1 (24).json and understand the data structure.\n",
    "with open('E:\\\\Data_Science_Coursework\\\\Rental Data Analysis\\\\facebook_messages\\\\message_1 (24).json') as json_data:\n",
    "    data = json.load(json_data)"
   ]
  },
  {
   "cell_type": "code",
   "execution_count": 142,
   "metadata": {},
   "outputs": [
    {
     "data": {
      "text/plain": [
       "{'participants': [{'name': 'Cecile Wang'}, {'name': 'Kameia Brown'}],\n",
       " 'messages': [{'sender_name': 'Cecile Wang',\n",
       "   'timestamp_ms': 1589466041336,\n",
       "   'content': 'Hi the usual rent from the leasing office is $1572/month. Since I am looking for someone to replace me, I am setting $300 off each month till the end of October.',\n",
       "   'type': 'Generic'},\n",
       "  {'sender_name': 'Kameia Brown',\n",
       "   'timestamp_ms': 1589465876525,\n",
       "   'content': 'It will be a long term move. I saw the lease is up in October. Do you know the renewal rate? I would really like to stay at the $1200 price point',\n",
       "   'type': 'Generic'},\n",
       "  {'sender_name': 'Cecile Wang',\n",
       "   'timestamp_ms': 1589465702641,\n",
       "   'content': 'Hi Kameia, yes it is still available. Can I know how long you are planning on renting the place?',\n",
       "   'type': 'Generic'},\n",
       "  {'sender_name': 'Kameia Brown',\n",
       "   'timestamp_ms': 1589459715646,\n",
       "   'content': 'Is this available?',\n",
       "   'type': 'Generic'},\n",
       "  {'sender_name': 'Kameia Brown',\n",
       "   'timestamp_ms': 1589459713583,\n",
       "   'content': 'Kameia changed the group photo.',\n",
       "   'type': 'Generic'},\n",
       "  {'sender_name': 'Kameia Brown',\n",
       "   'timestamp_ms': 1589459713036,\n",
       "   'content': 'Kameia named the group Kameia Â· 2 Beds 2 Baths - Apartment.',\n",
       "   'type': 'Generic'}],\n",
       " 'title': 'Kameia Â· 2 Beds 2 Baths - Apartment',\n",
       " 'is_still_participant': True,\n",
       " 'thread_type': 'RegularGroup',\n",
       " 'thread_path': 'inbox/Kameia2Beds2BathsApartment_1N1krqNXvQ'}"
      ]
     },
     "execution_count": 142,
     "metadata": {},
     "output_type": "execute_result"
    }
   ],
   "source": [
    "data"
   ]
  },
  {
   "cell_type": "code",
   "execution_count": 143,
   "metadata": {
    "scrolled": true
   },
   "outputs": [
    {
     "data": {
      "text/plain": [
       "1589465876525"
      ]
     },
     "execution_count": 143,
     "metadata": {},
     "output_type": "execute_result"
    }
   ],
   "source": [
    "# Play with the data to see the best way to access information I want.\n",
    "data['messages'][1]['timestamp_ms']"
   ]
  },
  {
   "cell_type": "code",
   "execution_count": 144,
   "metadata": {
    "scrolled": true
   },
   "outputs": [
    {
     "data": {
      "text/plain": [
       "6"
      ]
     },
     "execution_count": 144,
     "metadata": {},
     "output_type": "execute_result"
    }
   ],
   "source": [
    "# See how many elements are there in 'messages'\n",
    "len(data['messages'])"
   ]
  },
  {
   "cell_type": "code",
   "execution_count": 145,
   "metadata": {},
   "outputs": [],
   "source": [
    "#Create a dataframe called facebook to store the data\n",
    "facebook = pd.DataFrame(columns = ['Name','Timestamp','Content','Visit'])"
   ]
  },
  {
   "cell_type": "code",
   "execution_count": 148,
   "metadata": {},
   "outputs": [
    {
     "data": {
      "text/plain": [
       "28"
      ]
     },
     "execution_count": 148,
     "metadata": {},
     "output_type": "execute_result"
    }
   ],
   "source": [
    "# put the data I want into lists.\n",
    "sender =[]\n",
    "timestamp = []\n",
    "content = []\n",
    "for js in json_files:\n",
    "    \n",
    "    with open(os.path.join(path_to_json, js)) as json_file:\n",
    "        json_text = json.load(json_file)\n",
    "        content2 = ''\n",
    "        timestamp2 = []\n",
    "        timestamp2.clear()\n",
    "        # here you need to know the layout of your json and each json has to have\n",
    "        # the same structure (obviously not the structure I have here)\n",
    "        for i in range(len(json_text['messages'])):\n",
    "            if 'Cecile' not in json_text['messages'][i]['sender_name'] and 'content' in json_text['messages'][i]:\n",
    "                sender2 = json_text['messages'][i]['sender_name']\n",
    "                timestamp2.append(json_text['messages'][i]['timestamp_ms'])\n",
    "                content2 = content2 + ' ' + str(json_text['messages'][i][\"content\"])\n",
    "        \n",
    "        if len(timestamp2) != 0:   \n",
    "            sender.append(sender2)\n",
    "            min_timestamp = numpy.min(timestamp2)\n",
    "            timestamp.append(min_timestamp)\n",
    "        \n",
    "            content.append(content2)   \n",
    "            \n",
    "\n"
   ]
  },
  {
   "cell_type": "code",
   "execution_count": 149,
   "metadata": {
    "scrolled": true
   },
   "outputs": [
    {
     "data": {
      "text/plain": [
       "28"
      ]
     },
     "execution_count": 149,
     "metadata": {},
     "output_type": "execute_result"
    }
   ],
   "source": [
    "# making sure all columns are the same length. \n",
    "len(sender)\n",
    "len(content)\n",
    "len(timestamp)"
   ]
  },
  {
   "cell_type": "code",
   "execution_count": 150,
   "metadata": {
    "scrolled": true
   },
   "outputs": [],
   "source": [
    "# Input the list of data into dataframe\n",
    "facebook['Name'] = sender\n",
    "facebook['Timestamp'] = timestamp\n",
    "facebook['Content'] = content\n",
    "facebook['Visit'] = False"
   ]
  },
  {
   "cell_type": "code",
   "execution_count": 151,
   "metadata": {
    "scrolled": true
   },
   "outputs": [
    {
     "data": {
      "text/html": [
       "<div>\n",
       "<style scoped>\n",
       "    .dataframe tbody tr th:only-of-type {\n",
       "        vertical-align: middle;\n",
       "    }\n",
       "\n",
       "    .dataframe tbody tr th {\n",
       "        vertical-align: top;\n",
       "    }\n",
       "\n",
       "    .dataframe thead th {\n",
       "        text-align: right;\n",
       "    }\n",
       "</style>\n",
       "<table border=\"1\" class=\"dataframe\">\n",
       "  <thead>\n",
       "    <tr style=\"text-align: right;\">\n",
       "      <th></th>\n",
       "      <th>Name</th>\n",
       "      <th>Timestamp</th>\n",
       "      <th>Content</th>\n",
       "      <th>Visit</th>\n",
       "    </tr>\n",
       "  </thead>\n",
       "  <tbody>\n",
       "    <tr>\n",
       "      <th>0</th>\n",
       "      <td>Artavia Price</td>\n",
       "      <td>1589284962802</td>\n",
       "      <td>I understand. Thanks anyway July would be the...</td>\n",
       "      <td>False</td>\n",
       "    </tr>\n",
       "    <tr>\n",
       "      <th>1</th>\n",
       "      <td>Ashley Johnson</td>\n",
       "      <td>1589813598357</td>\n",
       "      <td>Yes. Please contact 832-985-4791 Is this stil...</td>\n",
       "      <td>False</td>\n",
       "    </tr>\n",
       "    <tr>\n",
       "      <th>2</th>\n",
       "      <td>Ashley Ann Caldwell</td>\n",
       "      <td>1589141727126</td>\n",
       "      <td>7153935574 is me just in case Sounds good Tom...</td>\n",
       "      <td>False</td>\n",
       "    </tr>\n",
       "    <tr>\n",
       "      <th>3</th>\n",
       "      <td>Ashley Renee</td>\n",
       "      <td>1589752037766</td>\n",
       "      <td>Thank you That's crazy but i get it But if yo...</td>\n",
       "      <td>False</td>\n",
       "    </tr>\n",
       "    <tr>\n",
       "      <th>4</th>\n",
       "      <td>Eden Ciarra</td>\n",
       "      <td>1589728061969</td>\n",
       "      <td>Only a year. Iâm moving from out of state f...</td>\n",
       "      <td>False</td>\n",
       "    </tr>\n",
       "    <tr>\n",
       "      <th>5</th>\n",
       "      <td>Ericah Cardenas</td>\n",
       "      <td>1589350290078</td>\n",
       "      <td>A year Ericah is waiting for your response. I...</td>\n",
       "      <td>False</td>\n",
       "    </tr>\n",
       "    <tr>\n",
       "      <th>6</th>\n",
       "      <td>Indiana Edwards</td>\n",
       "      <td>1589635616343</td>\n",
       "      <td>Is this still available? Indiana changed the ...</td>\n",
       "      <td>False</td>\n",
       "    </tr>\n",
       "    <tr>\n",
       "      <th>7</th>\n",
       "      <td>Shalmer Perro</td>\n",
       "      <td>1589580325006</td>\n",
       "      <td>Ok my number is +18326829569 Okay tomorrow wo...</td>\n",
       "      <td>False</td>\n",
       "    </tr>\n",
       "    <tr>\n",
       "      <th>8</th>\n",
       "      <td>Isabel Vargas</td>\n",
       "      <td>1589504780453</td>\n",
       "      <td>All bills included? Isabel changed the group ...</td>\n",
       "      <td>False</td>\n",
       "    </tr>\n",
       "    <tr>\n",
       "      <th>9</th>\n",
       "      <td>Quenique Jasmine</td>\n",
       "      <td>1589230242294</td>\n",
       "      <td>Jasmine is waiting for your response. Hi are ...</td>\n",
       "      <td>False</td>\n",
       "    </tr>\n",
       "    <tr>\n",
       "      <th>10</th>\n",
       "      <td>Jondel Onelane</td>\n",
       "      <td>1589022401780</td>\n",
       "      <td>Iâm moving from Louisiana so Iâm looking ...</td>\n",
       "      <td>False</td>\n",
       "    </tr>\n",
       "    <tr>\n",
       "      <th>11</th>\n",
       "      <td>Juan Saenz</td>\n",
       "      <td>1589847129126</td>\n",
       "      <td>Iâm sorry but I thought it was 1272 and I w...</td>\n",
       "      <td>False</td>\n",
       "    </tr>\n",
       "    <tr>\n",
       "      <th>12</th>\n",
       "      <td>Kameia Brown</td>\n",
       "      <td>1589459713036</td>\n",
       "      <td>It will be a long term move. I saw the lease ...</td>\n",
       "      <td>False</td>\n",
       "    </tr>\n",
       "    <tr>\n",
       "      <th>13</th>\n",
       "      <td>Katelyn Dickerson</td>\n",
       "      <td>1589820919021</td>\n",
       "      <td>Np if you canât find anyone let me know You...</td>\n",
       "      <td>False</td>\n",
       "    </tr>\n",
       "    <tr>\n",
       "      <th>14</th>\n",
       "      <td>Kiarae Janae Tillis</td>\n",
       "      <td>1589700229349</td>\n",
       "      <td>I need 1 bedroom Whatâs there number Hello ...</td>\n",
       "      <td>False</td>\n",
       "    </tr>\n",
       "    <tr>\n",
       "      <th>15</th>\n",
       "      <td>Kimberley Thomas</td>\n",
       "      <td>1589286346236</td>\n",
       "      <td>Soon*** And how so is it available Iâm defi...</td>\n",
       "      <td>False</td>\n",
       "    </tr>\n",
       "    <tr>\n",
       "      <th>16</th>\n",
       "      <td>Lisbeth Nava</td>\n",
       "      <td>1589825523932</td>\n",
       "      <td>Is this still available? Lisbeth changed the ...</td>\n",
       "      <td>False</td>\n",
       "    </tr>\n",
       "    <tr>\n",
       "      <th>17</th>\n",
       "      <td>Stiniger Garcia</td>\n",
       "      <td>1589450338046</td>\n",
       "      <td>I speak spanish Hola, Â¿sigue disponible? Sti...</td>\n",
       "      <td>False</td>\n",
       "    </tr>\n",
       "    <tr>\n",
       "      <th>18</th>\n",
       "      <td>Nikka Brown</td>\n",
       "      <td>1588647354837</td>\n",
       "      <td>Oh so a sublet unit? Is this price the upgrad...</td>\n",
       "      <td>False</td>\n",
       "    </tr>\n",
       "    <tr>\n",
       "      <th>19</th>\n",
       "      <td>Nyeasha Kelly</td>\n",
       "      <td>1589170237729</td>\n",
       "      <td>Ok thanks I would like to do an 1yr lease of ...</td>\n",
       "      <td>False</td>\n",
       "    </tr>\n",
       "    <tr>\n",
       "      <th>20</th>\n",
       "      <td>Pavlo Zolotavin</td>\n",
       "      <td>1579464463054</td>\n",
       "      <td>Ok. Thank you for letting me know Thanks He c...</td>\n",
       "      <td>False</td>\n",
       "    </tr>\n",
       "    <tr>\n",
       "      <th>21</th>\n",
       "      <td>Peng Zane</td>\n",
       "      <td>1589774076750</td>\n",
       "      <td>Ah I see. Sorry that is probably beyond my bu...</td>\n",
       "      <td>False</td>\n",
       "    </tr>\n",
       "    <tr>\n",
       "      <th>22</th>\n",
       "      <td>Tahiyyah Muhammad</td>\n",
       "      <td>1589246812183</td>\n",
       "      <td>Ok Iâm 9 mins away Perfect! See you soon! H...</td>\n",
       "      <td>False</td>\n",
       "    </tr>\n",
       "    <tr>\n",
       "      <th>23</th>\n",
       "      <td>Taila Hamilton</td>\n",
       "      <td>1587316627054</td>\n",
       "      <td>Hey Cecil! Iâm still working. I havenât h...</td>\n",
       "      <td>False</td>\n",
       "    </tr>\n",
       "    <tr>\n",
       "      <th>24</th>\n",
       "      <td>Trennie Henry</td>\n",
       "      <td>1589441725091</td>\n",
       "      <td>Ok 1 year do they have specials how much depo...</td>\n",
       "      <td>False</td>\n",
       "    </tr>\n",
       "    <tr>\n",
       "      <th>25</th>\n",
       "      <td>Yolanda J. Miles</td>\n",
       "      <td>1589223045313</td>\n",
       "      <td>Ok 4:00 is ok I'm 5 minutes away I've leased ...</td>\n",
       "      <td>False</td>\n",
       "    </tr>\n",
       "    <tr>\n",
       "      <th>26</th>\n",
       "      <td>Amber McCray</td>\n",
       "      <td>1578616553766</td>\n",
       "      <td>Is this still available? Amber changed the gr...</td>\n",
       "      <td>False</td>\n",
       "    </tr>\n",
       "    <tr>\n",
       "      <th>27</th>\n",
       "      <td>Rigo Vasquez</td>\n",
       "      <td>1581629644286</td>\n",
       "      <td>Hi Cecile. Yes my email is rigodlc@gmail.com ...</td>\n",
       "      <td>False</td>\n",
       "    </tr>\n",
       "  </tbody>\n",
       "</table>\n",
       "</div>"
      ],
      "text/plain": [
       "                   Name      Timestamp  \\\n",
       "0         Artavia Price  1589284962802   \n",
       "1        Ashley Johnson  1589813598357   \n",
       "2   Ashley Ann Caldwell  1589141727126   \n",
       "3          Ashley Renee  1589752037766   \n",
       "4           Eden Ciarra  1589728061969   \n",
       "5       Ericah Cardenas  1589350290078   \n",
       "6       Indiana Edwards  1589635616343   \n",
       "7         Shalmer Perro  1589580325006   \n",
       "8         Isabel Vargas  1589504780453   \n",
       "9      Quenique Jasmine  1589230242294   \n",
       "10       Jondel Onelane  1589022401780   \n",
       "11           Juan Saenz  1589847129126   \n",
       "12         Kameia Brown  1589459713036   \n",
       "13    Katelyn Dickerson  1589820919021   \n",
       "14  Kiarae Janae Tillis  1589700229349   \n",
       "15     Kimberley Thomas  1589286346236   \n",
       "16         Lisbeth Nava  1589825523932   \n",
       "17      Stiniger Garcia  1589450338046   \n",
       "18          Nikka Brown  1588647354837   \n",
       "19        Nyeasha Kelly  1589170237729   \n",
       "20      Pavlo Zolotavin  1579464463054   \n",
       "21            Peng Zane  1589774076750   \n",
       "22    Tahiyyah Muhammad  1589246812183   \n",
       "23       Taila Hamilton  1587316627054   \n",
       "24        Trennie Henry  1589441725091   \n",
       "25     Yolanda J. Miles  1589223045313   \n",
       "26         Amber McCray  1578616553766   \n",
       "27         Rigo Vasquez  1581629644286   \n",
       "\n",
       "                                              Content  Visit  \n",
       "0    I understand. Thanks anyway July would be the...  False  \n",
       "1    Yes. Please contact 832-985-4791 Is this stil...  False  \n",
       "2    7153935574 is me just in case Sounds good Tom...  False  \n",
       "3    Thank you That's crazy but i get it But if yo...  False  \n",
       "4    Only a year. Iâm moving from out of state f...  False  \n",
       "5    A year Ericah is waiting for your response. I...  False  \n",
       "6    Is this still available? Indiana changed the ...  False  \n",
       "7    Ok my number is +18326829569 Okay tomorrow wo...  False  \n",
       "8    All bills included? Isabel changed the group ...  False  \n",
       "9    Jasmine is waiting for your response. Hi are ...  False  \n",
       "10   Iâm moving from Louisiana so Iâm looking ...  False  \n",
       "11   Iâm sorry but I thought it was 1272 and I w...  False  \n",
       "12   It will be a long term move. I saw the lease ...  False  \n",
       "13   Np if you canât find anyone let me know You...  False  \n",
       "14   I need 1 bedroom Whatâs there number Hello ...  False  \n",
       "15   Soon*** And how so is it available Iâm defi...  False  \n",
       "16   Is this still available? Lisbeth changed the ...  False  \n",
       "17   I speak spanish Hola, Â¿sigue disponible? Sti...  False  \n",
       "18   Oh so a sublet unit? Is this price the upgrad...  False  \n",
       "19   Ok thanks I would like to do an 1yr lease of ...  False  \n",
       "20   Ok. Thank you for letting me know Thanks He c...  False  \n",
       "21   Ah I see. Sorry that is probably beyond my bu...  False  \n",
       "22   Ok Iâm 9 mins away Perfect! See you soon! H...  False  \n",
       "23   Hey Cecil! Iâm still working. I havenât h...  False  \n",
       "24   Ok 1 year do they have specials how much depo...  False  \n",
       "25   Ok 4:00 is ok I'm 5 minutes away I've leased ...  False  \n",
       "26   Is this still available? Amber changed the gr...  False  \n",
       "27   Hi Cecile. Yes my email is rigodlc@gmail.com ...  False  "
      ]
     },
     "execution_count": 151,
     "metadata": {},
     "output_type": "execute_result"
    }
   ],
   "source": [
    "#take a look\n",
    "facebook"
   ]
  },
  {
   "cell_type": "code",
   "execution_count": 152,
   "metadata": {},
   "outputs": [],
   "source": [
    "# Drop rows that are not from interested renters.\n",
    "facebook.drop([20,23,27], axis=0, inplace = True)"
   ]
  },
  {
   "cell_type": "code",
   "execution_count": 153,
   "metadata": {},
   "outputs": [],
   "source": [
    "# Change 'Visit' to True to those who visited.\n",
    "facebook.loc[2,'Visit'] = True\n",
    "facebook.loc[7,'Visit'] = True\n",
    "facebook.loc[22,'Visit'] = True\n",
    "facebook.loc[25,'Visit'] = True"
   ]
  },
  {
   "cell_type": "code",
   "execution_count": 154,
   "metadata": {
    "scrolled": false
   },
   "outputs": [],
   "source": [
    "facebook.reset_index(drop = True, inplace = True)\n",
    "\n",
    "facebook['Source']='Facebook'\n",
    "\n",
    "facebook.head()"
   ]
  },
  {
   "cell_type": "markdown",
   "metadata": {},
   "source": [
    "Time to take apart the timestamp!"
   ]
  },
  {
   "cell_type": "code",
   "execution_count": 157,
   "metadata": {},
   "outputs": [],
   "source": [
    "import datetime\n",
    "from datetime import datetime\n",
    "from dateutil.parser import parse"
   ]
  },
  {
   "cell_type": "code",
   "execution_count": 158,
   "metadata": {},
   "outputs": [
    {
     "name": "stdout",
     "output_type": "stream",
     "text": [
      "2020-05-17\n",
      "6\n"
     ]
    }
   ],
   "source": [
    "# Try to output date, time and weekday from a timestamp.\n",
    "dt = datetime.fromtimestamp(1589728061969/1000).isoformat()\n",
    "dt2 = parse(dt)\n",
    "print(dt2.date())\n",
    "print(dt2.weekday())"
   ]
  },
  {
   "cell_type": "code",
   "execution_count": 159,
   "metadata": {
    "scrolled": true
   },
   "outputs": [],
   "source": [
    "# Do the conversion to all timestamps in the dataframe and store data in corres[onding columns]\n",
    "for i in range(24):\n",
    "    dt = datetime.fromtimestamp(facebook.loc[i,'Timestamp']/1000)\n",
    "   # dt = parse(dt_string)\n",
    "    facebook.loc[i,'Date'] = dt.date()\n",
    "    facebook.loc[i,'Time'] = dt.time()\n",
    "    facebook.loc[i,'Weekday'] = dt.weekday()"
   ]
  },
  {
   "cell_type": "code",
   "execution_count": 160,
   "metadata": {},
   "outputs": [],
   "source": [
    "#Drop the column 'timestamp'\n",
    "facebook.drop('Timestamp', axis=1, inplace = True)"
   ]
  },
  {
   "cell_type": "markdown",
   "metadata": {},
   "source": [
    "Now we look at the post update dates:"
   ]
  },
  {
   "cell_type": "code",
   "execution_count": 74,
   "metadata": {},
   "outputs": [],
   "source": [
    "# this JSON file contains the time, and cotent of my facebook posts.\n",
    "facebook_post = pd.read_json('E:\\\\Data_Science_Coursework\\\\Rental Data Analysis\\\\facebook_posts\\\\your_posts_1.json')"
   ]
  },
  {
   "cell_type": "code",
   "execution_count": null,
   "metadata": {},
   "outputs": [],
   "source": [
    "facebook_post"
   ]
  },
  {
   "cell_type": "code",
   "execution_count": 76,
   "metadata": {
    "scrolled": false
   },
   "outputs": [],
   "source": [
    "facebook_post.drop(2, axis=0, inplace = True)\n",
    "\n",
    "facebook_post.reset_index(drop = True, inplace=True)\n",
    "\n",
    "facebook_post.head()"
   ]
  },
  {
   "cell_type": "code",
   "execution_count": 79,
   "metadata": {
    "scrolled": true
   },
   "outputs": [
    {
     "data": {
      "text/plain": [
       "list"
      ]
     },
     "execution_count": 79,
     "metadata": {},
     "output_type": "execute_result"
    }
   ],
   "source": [
    "type(facebook_post.loc[2,'attachments'])"
   ]
  },
  {
   "cell_type": "code",
   "execution_count": 85,
   "metadata": {},
   "outputs": [
    {
     "data": {
      "text/plain": [
       "1589032464"
      ]
     },
     "execution_count": 85,
     "metadata": {},
     "output_type": "execute_result"
    }
   ],
   "source": [
    "# take a look at one of the timestamp in one post\n",
    "facebook_post.loc[3,'attachments'][0]['data'][0]['for_sale_item']['created_timestamp']"
   ]
  },
  {
   "cell_type": "code",
   "execution_count": 110,
   "metadata": {},
   "outputs": [],
   "source": [
    "# create a dataframe facebook_post2 to store all advertisement update info.\n",
    "facebook_post2= pd.DataFrame(columns=['Timestamp', 'Date','Time','Type'])"
   ]
  },
  {
   "cell_type": "code",
   "execution_count": 114,
   "metadata": {
    "scrolled": true
   },
   "outputs": [
    {
     "data": {
      "text/html": [
       "<div>\n",
       "<style scoped>\n",
       "    .dataframe tbody tr th:only-of-type {\n",
       "        vertical-align: middle;\n",
       "    }\n",
       "\n",
       "    .dataframe tbody tr th {\n",
       "        vertical-align: top;\n",
       "    }\n",
       "\n",
       "    .dataframe thead th {\n",
       "        text-align: right;\n",
       "    }\n",
       "</style>\n",
       "<table border=\"1\" class=\"dataframe\">\n",
       "  <thead>\n",
       "    <tr style=\"text-align: right;\">\n",
       "      <th></th>\n",
       "      <th>Timestamp</th>\n",
       "      <th>Date</th>\n",
       "      <th>Time</th>\n",
       "      <th>Type</th>\n",
       "    </tr>\n",
       "  </thead>\n",
       "  <tbody>\n",
       "    <tr>\n",
       "      <th>0</th>\n",
       "      <td>1589655251</td>\n",
       "      <td>NaN</td>\n",
       "      <td>NaN</td>\n",
       "      <td>Creation</td>\n",
       "    </tr>\n",
       "    <tr>\n",
       "      <th>1</th>\n",
       "      <td>1589655238</td>\n",
       "      <td>NaN</td>\n",
       "      <td>NaN</td>\n",
       "      <td>Creation</td>\n",
       "    </tr>\n",
       "    <tr>\n",
       "      <th>2</th>\n",
       "      <td>2020-05-09 14:22:18</td>\n",
       "      <td>NaN</td>\n",
       "      <td>NaN</td>\n",
       "      <td>Creation</td>\n",
       "    </tr>\n",
       "    <tr>\n",
       "      <th>3</th>\n",
       "      <td>1589032464</td>\n",
       "      <td>NaN</td>\n",
       "      <td>NaN</td>\n",
       "      <td>Creation</td>\n",
       "    </tr>\n",
       "    <tr>\n",
       "      <th>4</th>\n",
       "      <td>1587219860</td>\n",
       "      <td>NaN</td>\n",
       "      <td>NaN</td>\n",
       "      <td>Creation</td>\n",
       "    </tr>\n",
       "  </tbody>\n",
       "</table>\n",
       "</div>"
      ],
      "text/plain": [
       "             Timestamp Date Time      Type\n",
       "0           1589655251  NaN  NaN  Creation\n",
       "1           1589655238  NaN  NaN  Creation\n",
       "2  2020-05-09 14:22:18  NaN  NaN  Creation\n",
       "3           1589032464  NaN  NaN  Creation\n",
       "4           1587219860  NaN  NaN  Creation"
      ]
     },
     "execution_count": 114,
     "metadata": {},
     "output_type": "execute_result"
    }
   ],
   "source": [
    "# Put all time info into the dataframe\n",
    "n=0\n",
    "for i in range(5):\n",
    "    \n",
    "    if 'for_sale_item' in str(facebook_post.loc[i,'attachments']):\n",
    "        facebook_post2.loc[n, 'Timestamp']= facebook_post.loc[i,'attachments'][0]['data'][0]['for_sale_item']['created_timestamp']\n",
    "        facebook_post2.loc[n, 'Type'] = 'Creation'\n",
    "        n=n+1\n",
    "        if facebook_post.loc[i,'attachments'][0]['data'][0]['for_sale_item']['updated_timestamp'] != facebook_post.loc[i,'attachments'][0]['data'][0]['for_sale_item']['created_timestamp']:\n",
    "            facebook_post2.loc[n, 'Timestamp']= facebook_post.loc[i,'attachments'][0]['data'][0]['for_sale_item']['updated_timestamp']\n",
    "            facebook_post2.loc[n, 'Type'] = 'Update'\n",
    "            n=n+1\n",
    "    else:\n",
    "        facebook_post2.loc[n, 'Timestamp']= facebook_post.loc[i,'timestamp']\n",
    "        n=n+1\n",
    "        \n",
    "facebook_post2.head()"
   ]
  },
  {
   "cell_type": "code",
   "execution_count": 133,
   "metadata": {
    "scrolled": true
   },
   "outputs": [
    {
     "data": {
      "text/html": [
       "<div>\n",
       "<style scoped>\n",
       "    .dataframe tbody tr th:only-of-type {\n",
       "        vertical-align: middle;\n",
       "    }\n",
       "\n",
       "    .dataframe tbody tr th {\n",
       "        vertical-align: top;\n",
       "    }\n",
       "\n",
       "    .dataframe thead th {\n",
       "        text-align: right;\n",
       "    }\n",
       "</style>\n",
       "<table border=\"1\" class=\"dataframe\">\n",
       "  <thead>\n",
       "    <tr style=\"text-align: right;\">\n",
       "      <th></th>\n",
       "      <th>Timestamp</th>\n",
       "      <th>Date</th>\n",
       "      <th>Time</th>\n",
       "      <th>Type</th>\n",
       "      <th>Weekday</th>\n",
       "    </tr>\n",
       "  </thead>\n",
       "  <tbody>\n",
       "    <tr>\n",
       "      <th>0</th>\n",
       "      <td>1589655251</td>\n",
       "      <td>2020-05-16</td>\n",
       "      <td>13:54:11</td>\n",
       "      <td>Creation</td>\n",
       "      <td>5.0</td>\n",
       "    </tr>\n",
       "    <tr>\n",
       "      <th>1</th>\n",
       "      <td>1589655238</td>\n",
       "      <td>2020-05-16</td>\n",
       "      <td>13:53:58</td>\n",
       "      <td>Creation</td>\n",
       "      <td>5.0</td>\n",
       "    </tr>\n",
       "    <tr>\n",
       "      <th>2</th>\n",
       "      <td>2020-05-09 14:22:18</td>\n",
       "      <td>2020-05-09</td>\n",
       "      <td>14:22:18</td>\n",
       "      <td>Creation</td>\n",
       "      <td>5.0</td>\n",
       "    </tr>\n",
       "    <tr>\n",
       "      <th>3</th>\n",
       "      <td>1589032464</td>\n",
       "      <td>2020-05-09</td>\n",
       "      <td>08:54:24</td>\n",
       "      <td>Creation</td>\n",
       "      <td>5.0</td>\n",
       "    </tr>\n",
       "    <tr>\n",
       "      <th>4</th>\n",
       "      <td>1587219860</td>\n",
       "      <td>2020-04-18</td>\n",
       "      <td>09:24:20</td>\n",
       "      <td>Creation</td>\n",
       "      <td>5.0</td>\n",
       "    </tr>\n",
       "    <tr>\n",
       "      <th>5</th>\n",
       "      <td>1589031247</td>\n",
       "      <td>2020-05-09</td>\n",
       "      <td>08:34:07</td>\n",
       "      <td>Update</td>\n",
       "      <td>5.0</td>\n",
       "    </tr>\n",
       "  </tbody>\n",
       "</table>\n",
       "</div>"
      ],
      "text/plain": [
       "             Timestamp        Date      Time      Type  Weekday\n",
       "0           1589655251  2020-05-16  13:54:11  Creation      5.0\n",
       "1           1589655238  2020-05-16  13:53:58  Creation      5.0\n",
       "2  2020-05-09 14:22:18  2020-05-09  14:22:18  Creation      5.0\n",
       "3           1589032464  2020-05-09  08:54:24  Creation      5.0\n",
       "4           1587219860  2020-04-18  09:24:20  Creation      5.0\n",
       "5           1589031247  2020-05-09  08:34:07    Update      5.0"
      ]
     },
     "execution_count": 133,
     "metadata": {},
     "output_type": "execute_result"
    }
   ],
   "source": [
    "# Extract Date and Time from Timestamp\n",
    "# there are 2 types of data in the column 'Timestamp': integer and datetime\n",
    "for i in range(6):\n",
    "    if type(facebook_post2.loc[i,'Timestamp']) == int:\n",
    "        dt_post = datetime.fromtimestamp(facebook_post2.loc[i,'Timestamp'])\n",
    "        #dt_post = parse(dt_str)\n",
    "        facebook_post2.loc[i,'Date'] = dt_post.date()\n",
    "        facebook_post2.loc[i,'Time'] = dt_post.time()\n",
    "        facebook_post2.loc[i,'Weekday'] = dt_post.weekday()\n",
    "    else:\n",
    "        facebook_post2.loc[i,'Date'] = facebook_post2.loc[i,'Timestamp'].date()\n",
    "        facebook_post2.loc[i,'Time'] = facebook_post2.loc[i,'Timestamp'].time()\n",
    "        facebook_post2.loc[i,'Weekday'] = facebook_post2.loc[i,'Timestamp'].weekday()\n",
    "\n",
    "        \n",
    "facebook_post2.head(10)"
   ]
  },
  {
   "cell_type": "code",
   "execution_count": 136,
   "metadata": {
    "scrolled": true
   },
   "outputs": [
    {
     "data": {
      "text/html": [
       "<div>\n",
       "<style scoped>\n",
       "    .dataframe tbody tr th:only-of-type {\n",
       "        vertical-align: middle;\n",
       "    }\n",
       "\n",
       "    .dataframe tbody tr th {\n",
       "        vertical-align: top;\n",
       "    }\n",
       "\n",
       "    .dataframe thead th {\n",
       "        text-align: right;\n",
       "    }\n",
       "</style>\n",
       "<table border=\"1\" class=\"dataframe\">\n",
       "  <thead>\n",
       "    <tr style=\"text-align: right;\">\n",
       "      <th></th>\n",
       "      <th>Date</th>\n",
       "      <th>Time</th>\n",
       "      <th>Type</th>\n",
       "      <th>Weekday</th>\n",
       "    </tr>\n",
       "  </thead>\n",
       "  <tbody>\n",
       "    <tr>\n",
       "      <th>0</th>\n",
       "      <td>2020-05-16</td>\n",
       "      <td>13:54:11</td>\n",
       "      <td>Creation</td>\n",
       "      <td>5.0</td>\n",
       "    </tr>\n",
       "    <tr>\n",
       "      <th>1</th>\n",
       "      <td>2020-05-16</td>\n",
       "      <td>13:53:58</td>\n",
       "      <td>Creation</td>\n",
       "      <td>5.0</td>\n",
       "    </tr>\n",
       "    <tr>\n",
       "      <th>2</th>\n",
       "      <td>2020-05-09</td>\n",
       "      <td>14:22:18</td>\n",
       "      <td>Creation</td>\n",
       "      <td>5.0</td>\n",
       "    </tr>\n",
       "    <tr>\n",
       "      <th>3</th>\n",
       "      <td>2020-05-09</td>\n",
       "      <td>08:54:24</td>\n",
       "      <td>Creation</td>\n",
       "      <td>5.0</td>\n",
       "    </tr>\n",
       "    <tr>\n",
       "      <th>4</th>\n",
       "      <td>2020-04-18</td>\n",
       "      <td>09:24:20</td>\n",
       "      <td>Creation</td>\n",
       "      <td>5.0</td>\n",
       "    </tr>\n",
       "  </tbody>\n",
       "</table>\n",
       "</div>"
      ],
      "text/plain": [
       "         Date      Time      Type  Weekday\n",
       "0  2020-05-16  13:54:11  Creation      5.0\n",
       "1  2020-05-16  13:53:58  Creation      5.0\n",
       "2  2020-05-09  14:22:18  Creation      5.0\n",
       "3  2020-05-09  08:54:24  Creation      5.0\n",
       "4  2020-04-18  09:24:20  Creation      5.0"
      ]
     },
     "execution_count": 136,
     "metadata": {},
     "output_type": "execute_result"
    }
   ],
   "source": [
    "# Drop the unnecessary column \"Timestamp\"\n",
    "facebook_post2.drop('Timestamp', axis = 1, inplace=True)\n",
    "facebook_post2.head()"
   ]
  },
  {
   "cell_type": "markdown",
   "metadata": {},
   "source": [
    "Interestly, I create and update all posts on Saturdays."
   ]
  },
  {
   "cell_type": "code",
   "execution_count": 161,
   "metadata": {
    "scrolled": true
   },
   "outputs": [
    {
     "data": {
      "text/html": [
       "<div>\n",
       "<style scoped>\n",
       "    .dataframe tbody tr th:only-of-type {\n",
       "        vertical-align: middle;\n",
       "    }\n",
       "\n",
       "    .dataframe tbody tr th {\n",
       "        vertical-align: top;\n",
       "    }\n",
       "\n",
       "    .dataframe thead th {\n",
       "        text-align: right;\n",
       "    }\n",
       "</style>\n",
       "<table border=\"1\" class=\"dataframe\">\n",
       "  <thead>\n",
       "    <tr style=\"text-align: right;\">\n",
       "      <th></th>\n",
       "      <th>Name</th>\n",
       "      <th>Content</th>\n",
       "      <th>Visit</th>\n",
       "      <th>Source</th>\n",
       "      <th>Date</th>\n",
       "      <th>Time</th>\n",
       "      <th>Weekday</th>\n",
       "    </tr>\n",
       "  </thead>\n",
       "  <tbody>\n",
       "    <tr>\n",
       "      <th>0</th>\n",
       "      <td>Artavia Price</td>\n",
       "      <td>I understand. Thanks anyway July would be the...</td>\n",
       "      <td>False</td>\n",
       "      <td>Facebook</td>\n",
       "      <td>2020-05-12</td>\n",
       "      <td>07:02:42.802000</td>\n",
       "      <td>1.0</td>\n",
       "    </tr>\n",
       "    <tr>\n",
       "      <th>1</th>\n",
       "      <td>Ashley Johnson</td>\n",
       "      <td>Yes. Please contact 832-985-4791 Is this stil...</td>\n",
       "      <td>False</td>\n",
       "      <td>Facebook</td>\n",
       "      <td>2020-05-18</td>\n",
       "      <td>09:53:18.357000</td>\n",
       "      <td>0.0</td>\n",
       "    </tr>\n",
       "    <tr>\n",
       "      <th>2</th>\n",
       "      <td>Ashley Ann Caldwell</td>\n",
       "      <td>7153935574 is me just in case Sounds good Tom...</td>\n",
       "      <td>True</td>\n",
       "      <td>Facebook</td>\n",
       "      <td>2020-05-10</td>\n",
       "      <td>15:15:27.126000</td>\n",
       "      <td>6.0</td>\n",
       "    </tr>\n",
       "    <tr>\n",
       "      <th>3</th>\n",
       "      <td>Ashley Renee</td>\n",
       "      <td>Thank you That's crazy but i get it But if yo...</td>\n",
       "      <td>False</td>\n",
       "      <td>Facebook</td>\n",
       "      <td>2020-05-17</td>\n",
       "      <td>16:47:17.766000</td>\n",
       "      <td>6.0</td>\n",
       "    </tr>\n",
       "    <tr>\n",
       "      <th>4</th>\n",
       "      <td>Eden Ciarra</td>\n",
       "      <td>Only a year. Iâm moving from out of state f...</td>\n",
       "      <td>False</td>\n",
       "      <td>Facebook</td>\n",
       "      <td>2020-05-17</td>\n",
       "      <td>10:07:41.969000</td>\n",
       "      <td>6.0</td>\n",
       "    </tr>\n",
       "  </tbody>\n",
       "</table>\n",
       "</div>"
      ],
      "text/plain": [
       "                  Name                                            Content  \\\n",
       "0        Artavia Price   I understand. Thanks anyway July would be the...   \n",
       "1       Ashley Johnson   Yes. Please contact 832-985-4791 Is this stil...   \n",
       "2  Ashley Ann Caldwell   7153935574 is me just in case Sounds good Tom...   \n",
       "3         Ashley Renee   Thank you That's crazy but i get it But if yo...   \n",
       "4          Eden Ciarra   Only a year. Iâm moving from out of state f...   \n",
       "\n",
       "   Visit    Source        Date             Time  Weekday  \n",
       "0  False  Facebook  2020-05-12  07:02:42.802000      1.0  \n",
       "1  False  Facebook  2020-05-18  09:53:18.357000      0.0  \n",
       "2   True  Facebook  2020-05-10  15:15:27.126000      6.0  \n",
       "3  False  Facebook  2020-05-17  16:47:17.766000      6.0  \n",
       "4  False  Facebook  2020-05-17  10:07:41.969000      6.0  "
      ]
     },
     "execution_count": 161,
     "metadata": {},
     "output_type": "execute_result"
    }
   ],
   "source": [
    "facebook.head()"
   ]
  },
  {
   "cell_type": "code",
   "execution_count": 166,
   "metadata": {},
   "outputs": [],
   "source": [
    "facebook.to_csv('E:\\Data_Science_Coursework\\Rental Data Analysis\\ facebook.csv')\n",
    "facebook_post2.to_csv('E:\\Data_Science_Coursework\\Rental Data Analysis\\ facebook_post.csv')"
   ]
  }
 ],
 "metadata": {
  "kernelspec": {
   "display_name": "Python 3",
   "language": "python",
   "name": "python3"
  },
  "language_info": {
   "codemirror_mode": {
    "name": "ipython",
    "version": 3
   },
   "file_extension": ".py",
   "mimetype": "text/x-python",
   "name": "python",
   "nbconvert_exporter": "python",
   "pygments_lexer": "ipython3",
   "version": "3.7.6"
  }
 },
 "nbformat": 4,
 "nbformat_minor": 4
}
